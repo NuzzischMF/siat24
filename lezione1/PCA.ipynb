{
 "cells": [
  {
   "cell_type": "code",
   "execution_count": 1,
   "metadata": {},
   "outputs": [
    {
     "name": "stderr",
     "output_type": "stream",
     "text": [
      "/Users/nuzzo2/anaconda3/lib/python3.11/site-packages/pandas/core/arrays/masked.py:60: UserWarning: Pandas requires version '1.3.6' or newer of 'bottleneck' (version '1.3.5' currently installed).\n",
      "  from pandas.core import (\n"
     ]
    },
    {
     "ename": "NameError",
     "evalue": "name 'returns' is not defined",
     "output_type": "error",
     "traceback": [
      "\u001b[0;31m---------------------------------------------------------------------------\u001b[0m",
      "\u001b[0;31mNameError\u001b[0m                                 Traceback (most recent call last)",
      "Cell \u001b[0;32mIn[1], line 17\u001b[0m\n\u001b[1;32m      6\u001b[0m assets \u001b[38;5;241m=\u001b[39m {\n\u001b[1;32m      7\u001b[0m     \u001b[38;5;124m'\u001b[39m\u001b[38;5;124mequity\u001b[39m\u001b[38;5;124m'\u001b[39m: [\u001b[38;5;124m'\u001b[39m\u001b[38;5;124mDAX\u001b[39m\u001b[38;5;124m'\u001b[39m, \u001b[38;5;124m'\u001b[39m\u001b[38;5;124mCAC40\u001b[39m\u001b[38;5;124m'\u001b[39m, \u001b[38;5;124m'\u001b[39m\u001b[38;5;124mFTSE100\u001b[39m\u001b[38;5;124m'\u001b[39m, \u001b[38;5;124m'\u001b[39m\u001b[38;5;124mFTSE MIB\u001b[39m\u001b[38;5;124m'\u001b[39m, \u001b[38;5;124m'\u001b[39m\u001b[38;5;124mIBEX\u001b[39m\u001b[38;5;124m'\u001b[39m],\n\u001b[1;32m      8\u001b[0m     \u001b[38;5;124m'\u001b[39m\u001b[38;5;124mfixed_income\u001b[39m\u001b[38;5;124m'\u001b[39m: [\u001b[38;5;124m'\u001b[39m\u001b[38;5;124mBUND\u001b[39m\u001b[38;5;124m'\u001b[39m, \u001b[38;5;124m'\u001b[39m\u001b[38;5;124mOAT\u001b[39m\u001b[38;5;124m'\u001b[39m, \u001b[38;5;124m'\u001b[39m\u001b[38;5;124mBTP\u001b[39m\u001b[38;5;124m'\u001b[39m, \u001b[38;5;124m'\u001b[39m\u001b[38;5;124mBONOS\u001b[39m\u001b[38;5;124m'\u001b[39m],\n\u001b[0;32m   (...)\u001b[0m\n\u001b[1;32m     11\u001b[0m     \u001b[38;5;124m'\u001b[39m\u001b[38;5;124malternatives\u001b[39m\u001b[38;5;124m'\u001b[39m: [\u001b[38;5;124m'\u001b[39m\u001b[38;5;124mEU REITS\u001b[39m\u001b[38;5;124m'\u001b[39m, \u001b[38;5;124m'\u001b[39m\u001b[38;5;124mEU GOLD MINERS\u001b[39m\u001b[38;5;124m'\u001b[39m, \u001b[38;5;124m'\u001b[39m\u001b[38;5;124mCRUDE OIL\u001b[39m\u001b[38;5;124m'\u001b[39m, \u001b[38;5;124m'\u001b[39m\u001b[38;5;124mEUR/USD\u001b[39m\u001b[38;5;124m'\u001b[39m]\n\u001b[1;32m     12\u001b[0m }\n\u001b[1;32m     14\u001b[0m \u001b[38;5;66;03m# Dati giornalieri 2018-2023\u001b[39;00m\n\u001b[1;32m     15\u001b[0m \u001b[38;5;66;03m# returns: DataFrame (1260 x 20)\u001b[39;00m\n\u001b[1;32m     16\u001b[0m \u001b[38;5;66;03m# Standardizziamo i rendimenti\u001b[39;00m\n\u001b[0;32m---> 17\u001b[0m returns_std \u001b[38;5;241m=\u001b[39m (returns \u001b[38;5;241m-\u001b[39m returns\u001b[38;5;241m.\u001b[39mmean()) \u001b[38;5;241m/\u001b[39m returns\u001b[38;5;241m.\u001b[39mstd()\n\u001b[1;32m     19\u001b[0m \u001b[38;5;66;03m# Applichiamo PCA\u001b[39;00m\n\u001b[1;32m     20\u001b[0m pca \u001b[38;5;241m=\u001b[39m PCA()\n",
      "\u001b[0;31mNameError\u001b[0m: name 'returns' is not defined"
     ]
    }
   ],
   "source": [
    "import numpy as np\n",
    "import pandas as pd\n",
    "from sklearn.decomposition import PCA\n",
    "\n",
    "# Portfolio Universe (20 asset principali europei)\n",
    "assets = {\n",
    "    'equity': ['DAX', 'CAC40', 'FTSE100', 'FTSE MIB', 'IBEX'],\n",
    "    'fixed_income': ['BUND', 'OAT', 'BTP', 'BONOS'],\n",
    "    'sectors': ['EU BANKS', 'EU TECH', 'EU ENERGY', 'EU UTILITIES'],\n",
    "    'factors': ['EU VALUE', 'EU MOMENTUM', 'EU QUALITY'],\n",
    "    'alternatives': ['EU REITS', 'EU GOLD MINERS', 'CRUDE OIL', 'EUR/USD']\n",
    "}\n",
    "\n",
    "# Dati giornalieri 2018-2023\n",
    "# returns: DataFrame (1260 x 20)\n",
    "# Standardizziamo i rendimenti\n",
    "returns_std = (returns - returns.mean()) / returns.std()\n",
    "\n",
    "# Applichiamo PCA\n",
    "pca = PCA()\n",
    "pca.fit(returns_std)\n",
    "\n",
    "# Variance explained\n",
    "explained_var = pd.DataFrame({\n",
    "    'Component': range(1, len(pca.explained_variance_ratio_) + 1),\n",
    "    'Explained_Var': pca.explained_variance_ratio_,\n",
    "    'Cumulative_Var': np.cumsum(pca.explained_variance_ratio_)\n",
    "})\n",
    "\n",
    "'''\n",
    "Output:\n",
    "Component 1: 42.3% (Market Risk)\n",
    "Component 2: 16.7% (Rates Risk)\n",
    "Component 3: 9.4%  (Commodities)\n",
    "Component 4: 5.8%  (Financial/Bank Risk)\n",
    "Component 5: 3.9%  (Currency Risk)\n",
    "...\n",
    "'''\n",
    "# Primi 3 eigenportfolios\n",
    "eigen_portfolios = pd.DataFrame(\n",
    "    pca.components_[:3],\n",
    "    columns=assets_list,\n",
    "    index=['Market', 'Rates', 'Commodities']\n",
    ")\n",
    "\n",
    "'''\n",
    "Eigenportfolio 1 (Market):\n",
    "- DAX: 0.31\n",
    "- CAC40: 0.29\n",
    "- FTSE100: 0.28\n",
    "- EU BANKS: 0.25\n",
    "...\n",
    "\n",
    "Eigenportfolio 2 (Rates):\n",
    "- BUND: 0.45\n",
    "- OAT: 0.42\n",
    "- BTP: -0.38\n",
    "- EU BANKS: -0.22\n",
    "...\n",
    "'''\n",
    "\n",
    "# Esposizione del portafoglio corrente ai fattori\n",
    "current_portfolio = {\n",
    "    'DAX': 0.15, 'CAC40': 0.12, 'FTSE100': 0.13,\n",
    "    'BUND': 0.20, 'BTP': 0.15, 'EU BANKS': 0.10,\n",
    "    # ...altri pesi\n",
    "}\n",
    "\n",
    "factor_exposure = np.dot(\n",
    "    list(current_portfolio.values()), \n",
    "    pca.components_[:3].T\n",
    ")\n",
    "\n",
    "'''\n",
    "Factor Exposures:\n",
    "Market Risk: 0.85\n",
    "Rates Risk: 0.32\n",
    "Commodities: -0.15\n",
    "'''\n",
    "\n",
    "# Hedge Portfolio Construction\n",
    "hedge_weights = -pca.components_[0] * factor_exposure[0]"
   ]
  }
 ],
 "metadata": {
  "kernelspec": {
   "display_name": "base",
   "language": "python",
   "name": "python3"
  },
  "language_info": {
   "codemirror_mode": {
    "name": "ipython",
    "version": 3
   },
   "file_extension": ".py",
   "mimetype": "text/x-python",
   "name": "python",
   "nbconvert_exporter": "python",
   "pygments_lexer": "ipython3",
   "version": "3.11.4"
  }
 },
 "nbformat": 4,
 "nbformat_minor": 2
}
